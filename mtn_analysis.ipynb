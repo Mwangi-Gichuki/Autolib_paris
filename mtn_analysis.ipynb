{
 "cells": [
  {
   "cell_type": "code",
   "execution_count": 2,
   "metadata": {},
   "outputs": [],
   "source": [
    "import pandas as pd \n",
    "import numpy as np \n"
   ]
  },
  {
   "cell_type": "code",
   "execution_count": 67,
   "metadata": {},
   "outputs": [],
   "source": [
    "# Loading the analysis data from the csv and excel sheet provided\n",
    "\n",
    "df1 = pd.read_csv('Telcom_dataset.csv', names = ['PRODUCT', 'VALUE', 'CELL_ON_SITE', 'DATE_TIME', 'DW_A_NUMBER_INT', 'DW_B_NUMBER_INT', 'COUNTRY_A', 'COUNTRY_B', 'CELL_ID', 'SITE_ID'])\n",
    "df2 = pd.read_csv('Telcom_dataset2.csv', names = ['PRODUCT', 'VALUE', 'CELL_ON_SITE', 'DATE_TIME', 'DW_A_NUMBER_INT', 'DW_B_NUMBER_INT', 'COUNTRY_A', 'COUNTRY_B', 'CELL_ID', 'SITE_ID'])\n",
    "df3 = pd.read_csv('Telcom_dataset3.csv', names = ['PRODUCT', 'VALUE', 'CELL_ON_SITE', 'DATE_TIME', 'DW_A_NUMBER_INT', 'DW_B_NUMBER_INT', 'COUNTRY_A', 'COUNTRY_B', 'CELL_ID', 'SITE_ID'])\n",
    "df4 = pd.read_csv('cells_geo.csv', delimiter= ';')\n",
    "df5 = pd.read_excel('CDR_description.xlsx')\n",
    "df5 = pd.read_excel('cells_geo_description.xlsx')"
   ]
  },
  {
   "cell_type": "code",
   "execution_count": 74,
   "metadata": {},
   "outputs": [
    {
     "output_type": "execute_result",
     "data": {
      "text/plain": "      PRODUCT  VALUE     DATE_TIME  DW_A_NUMBER_INT  DW_B_NUMBER_INT  \\\n0     PRODUTC  VALUE  CELL_ON_SITE  DW_A_NUMBER_INT  DW_B_NUMBER_INT   \n1       Voice      0             1  49fae048b547780  1a49f8b0ded9de6   \n2         sms      0             0  7a54a6eaee19e65  93343ba6e41af95   \n3         sms     25             0  6008887b0207d82  7aacc9709ce0a20   \n4       Voice     56             1  7370032e20f4e96  6af4a60e74c91d3   \n...       ...    ...           ...              ...              ...   \n4997      sms    100             0  92e367d671f45c5  38811081cf82c90   \n4998    Voice      1             1  83b44b18238e602  6ec63d4aa5de5dd   \n4999    Voice      0             1  49fae048b547780  1a49f8b0ded9de6   \n5000    Voice      0             0  a1613f1a992716a  bd663f07b6c8bcd   \n5001    Voice      7             2  1670a5f7c22f4ed  3600efd094f2225   \n\n         CELL_ID     SITE_ID  \n0        CELL_ID     SITE_ID  \n1     /TJNe+Mmtu  /TJNe+Mmtu  \n2     /+cKZKIp41  /+cKZKIp41  \n3     /u0FSD+ahi  /u0FSD+ahi  \n4     +cNeJzsTp3  +cNeJzsTp3  \n...          ...         ...  \n4997  0c2371d9bc  1e751d08a4  \n4998  5fb791cf56  65efe2bc62  \n4999  7773627c12  9ef9616350  \n5000  3f4af49d6c  969b8d0e39  \n5001  6f4d9b77a5  ebfc58af70  \n\n[5002 rows x 7 columns]",
      "text/html": "<div>\n<style scoped>\n    .dataframe tbody tr th:only-of-type {\n        vertical-align: middle;\n    }\n\n    .dataframe tbody tr th {\n        vertical-align: top;\n    }\n\n    .dataframe thead th {\n        text-align: right;\n    }\n</style>\n<table border=\"1\" class=\"dataframe\">\n  <thead>\n    <tr style=\"text-align: right;\">\n      <th></th>\n      <th>PRODUCT</th>\n      <th>VALUE</th>\n      <th>DATE_TIME</th>\n      <th>DW_A_NUMBER_INT</th>\n      <th>DW_B_NUMBER_INT</th>\n      <th>CELL_ID</th>\n      <th>SITE_ID</th>\n    </tr>\n  </thead>\n  <tbody>\n    <tr>\n      <th>0</th>\n      <td>PRODUTC</td>\n      <td>VALUE</td>\n      <td>CELL_ON_SITE</td>\n      <td>DW_A_NUMBER_INT</td>\n      <td>DW_B_NUMBER_INT</td>\n      <td>CELL_ID</td>\n      <td>SITE_ID</td>\n    </tr>\n    <tr>\n      <th>1</th>\n      <td>Voice</td>\n      <td>0</td>\n      <td>1</td>\n      <td>49fae048b547780</td>\n      <td>1a49f8b0ded9de6</td>\n      <td>/TJNe+Mmtu</td>\n      <td>/TJNe+Mmtu</td>\n    </tr>\n    <tr>\n      <th>2</th>\n      <td>sms</td>\n      <td>0</td>\n      <td>0</td>\n      <td>7a54a6eaee19e65</td>\n      <td>93343ba6e41af95</td>\n      <td>/+cKZKIp41</td>\n      <td>/+cKZKIp41</td>\n    </tr>\n    <tr>\n      <th>3</th>\n      <td>sms</td>\n      <td>25</td>\n      <td>0</td>\n      <td>6008887b0207d82</td>\n      <td>7aacc9709ce0a20</td>\n      <td>/u0FSD+ahi</td>\n      <td>/u0FSD+ahi</td>\n    </tr>\n    <tr>\n      <th>4</th>\n      <td>Voice</td>\n      <td>56</td>\n      <td>1</td>\n      <td>7370032e20f4e96</td>\n      <td>6af4a60e74c91d3</td>\n      <td>+cNeJzsTp3</td>\n      <td>+cNeJzsTp3</td>\n    </tr>\n    <tr>\n      <th>...</th>\n      <td>...</td>\n      <td>...</td>\n      <td>...</td>\n      <td>...</td>\n      <td>...</td>\n      <td>...</td>\n      <td>...</td>\n    </tr>\n    <tr>\n      <th>4997</th>\n      <td>sms</td>\n      <td>100</td>\n      <td>0</td>\n      <td>92e367d671f45c5</td>\n      <td>38811081cf82c90</td>\n      <td>0c2371d9bc</td>\n      <td>1e751d08a4</td>\n    </tr>\n    <tr>\n      <th>4998</th>\n      <td>Voice</td>\n      <td>1</td>\n      <td>1</td>\n      <td>83b44b18238e602</td>\n      <td>6ec63d4aa5de5dd</td>\n      <td>5fb791cf56</td>\n      <td>65efe2bc62</td>\n    </tr>\n    <tr>\n      <th>4999</th>\n      <td>Voice</td>\n      <td>0</td>\n      <td>1</td>\n      <td>49fae048b547780</td>\n      <td>1a49f8b0ded9de6</td>\n      <td>7773627c12</td>\n      <td>9ef9616350</td>\n    </tr>\n    <tr>\n      <th>5000</th>\n      <td>Voice</td>\n      <td>0</td>\n      <td>0</td>\n      <td>a1613f1a992716a</td>\n      <td>bd663f07b6c8bcd</td>\n      <td>3f4af49d6c</td>\n      <td>969b8d0e39</td>\n    </tr>\n    <tr>\n      <th>5001</th>\n      <td>Voice</td>\n      <td>7</td>\n      <td>2</td>\n      <td>1670a5f7c22f4ed</td>\n      <td>3600efd094f2225</td>\n      <td>6f4d9b77a5</td>\n      <td>ebfc58af70</td>\n    </tr>\n  </tbody>\n</table>\n<p>5002 rows × 7 columns</p>\n</div>"
     },
     "metadata": {},
     "execution_count": 74
    }
   ],
   "source": [
    "# Removing the uncessary columns from the three day's data\n",
    "\n",
    "df6 = df1.drop(['CELL_ON_SITE','COUNTRY_A','COUNTRY_B'], axis = 1)\n",
    "df6"
   ]
  },
  {
   "cell_type": "code",
   "execution_count": 75,
   "metadata": {},
   "outputs": [],
   "source": [
    "# Removing the uncessary columns from the three day's data\n",
    "\n",
    "df7 = df2.drop(['CELL_ON_SITE','COUNTRY_A', 'COUNTRY_B'], axis = 1)"
   ]
  },
  {
   "cell_type": "code",
   "execution_count": 76,
   "metadata": {},
   "outputs": [],
   "source": [
    "# Removing the uncessary columns from the three day's data\n",
    "\n",
    "df8 = df3.drop(['CELL_ON_SITE','COUNTRY_A','COUNTRY_B'], axis = 1)"
   ]
  },
  {
   "cell_type": "code",
   "execution_count": 77,
   "metadata": {},
   "outputs": [
    {
     "output_type": "execute_result",
     "data": {
      "text/plain": "      Unnamed: 0    VILLES      STATUS LOCALISATION    DECOUPZONE  \\\n23            23     ABOBO  In Service      ABIDJAN  Abidjan_NORD   \n24            24     ABOBO  In Service      ABIDJAN  Abidjan_NORD   \n25            25     ABOBO  In Service      ABIDJAN  Abidjan_NORD   \n26            26     ABOBO  In Service      ABIDJAN  Abidjan_NORD   \n27            27     ABOBO  In Service      ABIDJAN  Abidjan_NORD   \n...          ...       ...         ...          ...           ...   \n3969        3969  ZUENOULA  In Service    INTERIEUR    Grand-NORD   \n3970        3970  ZUENOULA  In Service    INTERIEUR    Grand-NORD   \n3971        3971  ZUENOULA  In Service    INTERIEUR    Grand-NORD   \n3972        3972  ZUENOULA  In Service    INTERIEUR    Grand-NORD   \n3973        3973  ZUENOULA  In Service    INTERIEUR    Grand-NORD   \n\n                   ZONENAME  LONGITUDE  LATITUDE    REGION           AREA  \\\n23    ZONE E - Abidjan_NORD  -4.014139  5.433500    LAGUNE  ABIDJAN NORTH   \n24    ZONE E - Abidjan_NORD  -4.014139  5.433500    LAGUNE  ABIDJAN NORTH   \n25    ZONE E - Abidjan_NORD  -4.014139  5.433500    LAGUNE  ABIDJAN NORTH   \n26    ZONE E - Abidjan_NORD  -4.014139  5.433500    LAGUNE  ABIDJAN NORTH   \n27    ZONE E - Abidjan_NORD  -4.014139  5.433500    LAGUNE  ABIDJAN NORTH   \n...                     ...        ...       ...       ...            ...   \n3969    ZONE A - Grand-NORD  -6.039694  7.428611  MARAHOUE   CENTRE NORTH   \n3970    ZONE A - Grand-NORD  -6.039694  7.428611  MARAHOUE   CENTRE NORTH   \n3971    ZONE A - Grand-NORD  -6.065450  7.444592  MARAHOUE   CENTRE NORTH   \n3972    ZONE A - Grand-NORD  -6.065450  7.444592  MARAHOUE   CENTRE NORTH   \n3973    ZONE A - Grand-NORD  -6.065450  7.444592  MARAHOUE   CENTRE NORTH   \n\n         CELL_ID   SITE_CODE  \n23    f740406877  0f34c36ac5  \n24    959e54c8f7  0f34c36ac5  \n25    56b7e7000c  0f34c36ac5  \n26    bc51c17a6f  0f34c36ac5  \n27    e460975c9f  0f34c36ac5  \n...          ...         ...  \n3969  1cfc2d7ab1  f91ed8d2e9  \n3970  3ae1708153  f91ed8d2e9  \n3971  cb71f8a29c  61bee9c70c  \n3972  d4a6a0b645  61bee9c70c  \n3973  f9f3e42589  61bee9c70c  \n\n[3880 rows x 12 columns]",
      "text/html": "<div>\n<style scoped>\n    .dataframe tbody tr th:only-of-type {\n        vertical-align: middle;\n    }\n\n    .dataframe tbody tr th {\n        vertical-align: top;\n    }\n\n    .dataframe thead th {\n        text-align: right;\n    }\n</style>\n<table border=\"1\" class=\"dataframe\">\n  <thead>\n    <tr style=\"text-align: right;\">\n      <th></th>\n      <th>Unnamed: 0</th>\n      <th>VILLES</th>\n      <th>STATUS</th>\n      <th>LOCALISATION</th>\n      <th>DECOUPZONE</th>\n      <th>ZONENAME</th>\n      <th>LONGITUDE</th>\n      <th>LATITUDE</th>\n      <th>REGION</th>\n      <th>AREA</th>\n      <th>CELL_ID</th>\n      <th>SITE_CODE</th>\n    </tr>\n  </thead>\n  <tbody>\n    <tr>\n      <th>23</th>\n      <td>23</td>\n      <td>ABOBO</td>\n      <td>In Service</td>\n      <td>ABIDJAN</td>\n      <td>Abidjan_NORD</td>\n      <td>ZONE E - Abidjan_NORD</td>\n      <td>-4.014139</td>\n      <td>5.433500</td>\n      <td>LAGUNE</td>\n      <td>ABIDJAN NORTH</td>\n      <td>f740406877</td>\n      <td>0f34c36ac5</td>\n    </tr>\n    <tr>\n      <th>24</th>\n      <td>24</td>\n      <td>ABOBO</td>\n      <td>In Service</td>\n      <td>ABIDJAN</td>\n      <td>Abidjan_NORD</td>\n      <td>ZONE E - Abidjan_NORD</td>\n      <td>-4.014139</td>\n      <td>5.433500</td>\n      <td>LAGUNE</td>\n      <td>ABIDJAN NORTH</td>\n      <td>959e54c8f7</td>\n      <td>0f34c36ac5</td>\n    </tr>\n    <tr>\n      <th>25</th>\n      <td>25</td>\n      <td>ABOBO</td>\n      <td>In Service</td>\n      <td>ABIDJAN</td>\n      <td>Abidjan_NORD</td>\n      <td>ZONE E - Abidjan_NORD</td>\n      <td>-4.014139</td>\n      <td>5.433500</td>\n      <td>LAGUNE</td>\n      <td>ABIDJAN NORTH</td>\n      <td>56b7e7000c</td>\n      <td>0f34c36ac5</td>\n    </tr>\n    <tr>\n      <th>26</th>\n      <td>26</td>\n      <td>ABOBO</td>\n      <td>In Service</td>\n      <td>ABIDJAN</td>\n      <td>Abidjan_NORD</td>\n      <td>ZONE E - Abidjan_NORD</td>\n      <td>-4.014139</td>\n      <td>5.433500</td>\n      <td>LAGUNE</td>\n      <td>ABIDJAN NORTH</td>\n      <td>bc51c17a6f</td>\n      <td>0f34c36ac5</td>\n    </tr>\n    <tr>\n      <th>27</th>\n      <td>27</td>\n      <td>ABOBO</td>\n      <td>In Service</td>\n      <td>ABIDJAN</td>\n      <td>Abidjan_NORD</td>\n      <td>ZONE E - Abidjan_NORD</td>\n      <td>-4.014139</td>\n      <td>5.433500</td>\n      <td>LAGUNE</td>\n      <td>ABIDJAN NORTH</td>\n      <td>e460975c9f</td>\n      <td>0f34c36ac5</td>\n    </tr>\n    <tr>\n      <th>...</th>\n      <td>...</td>\n      <td>...</td>\n      <td>...</td>\n      <td>...</td>\n      <td>...</td>\n      <td>...</td>\n      <td>...</td>\n      <td>...</td>\n      <td>...</td>\n      <td>...</td>\n      <td>...</td>\n      <td>...</td>\n    </tr>\n    <tr>\n      <th>3969</th>\n      <td>3969</td>\n      <td>ZUENOULA</td>\n      <td>In Service</td>\n      <td>INTERIEUR</td>\n      <td>Grand-NORD</td>\n      <td>ZONE A - Grand-NORD</td>\n      <td>-6.039694</td>\n      <td>7.428611</td>\n      <td>MARAHOUE</td>\n      <td>CENTRE NORTH</td>\n      <td>1cfc2d7ab1</td>\n      <td>f91ed8d2e9</td>\n    </tr>\n    <tr>\n      <th>3970</th>\n      <td>3970</td>\n      <td>ZUENOULA</td>\n      <td>In Service</td>\n      <td>INTERIEUR</td>\n      <td>Grand-NORD</td>\n      <td>ZONE A - Grand-NORD</td>\n      <td>-6.039694</td>\n      <td>7.428611</td>\n      <td>MARAHOUE</td>\n      <td>CENTRE NORTH</td>\n      <td>3ae1708153</td>\n      <td>f91ed8d2e9</td>\n    </tr>\n    <tr>\n      <th>3971</th>\n      <td>3971</td>\n      <td>ZUENOULA</td>\n      <td>In Service</td>\n      <td>INTERIEUR</td>\n      <td>Grand-NORD</td>\n      <td>ZONE A - Grand-NORD</td>\n      <td>-6.065450</td>\n      <td>7.444592</td>\n      <td>MARAHOUE</td>\n      <td>CENTRE NORTH</td>\n      <td>cb71f8a29c</td>\n      <td>61bee9c70c</td>\n    </tr>\n    <tr>\n      <th>3972</th>\n      <td>3972</td>\n      <td>ZUENOULA</td>\n      <td>In Service</td>\n      <td>INTERIEUR</td>\n      <td>Grand-NORD</td>\n      <td>ZONE A - Grand-NORD</td>\n      <td>-6.065450</td>\n      <td>7.444592</td>\n      <td>MARAHOUE</td>\n      <td>CENTRE NORTH</td>\n      <td>d4a6a0b645</td>\n      <td>61bee9c70c</td>\n    </tr>\n    <tr>\n      <th>3973</th>\n      <td>3973</td>\n      <td>ZUENOULA</td>\n      <td>In Service</td>\n      <td>INTERIEUR</td>\n      <td>Grand-NORD</td>\n      <td>ZONE A - Grand-NORD</td>\n      <td>-6.065450</td>\n      <td>7.444592</td>\n      <td>MARAHOUE</td>\n      <td>CENTRE NORTH</td>\n      <td>f9f3e42589</td>\n      <td>61bee9c70c</td>\n    </tr>\n  </tbody>\n</table>\n<p>3880 rows × 12 columns</p>\n</div>"
     },
     "metadata": {},
     "execution_count": 77
    }
   ],
   "source": [
    "# removing null values from the cells_geo sheet\n",
    "df4 = df4.dropna()\n",
    "df4"
   ]
  },
  {
   "cell_type": "code",
   "execution_count": 78,
   "metadata": {},
   "outputs": [
    {
     "output_type": "execute_result",
     "data": {
      "text/plain": "                PRODUCT  VALUE     DATE_TIME  DW_A_NUMBER_INT  \\\nPRODUCT   0     PRODUTC  VALUE  CELL_ON_SITE  DW_A_NUMBER_INT   \n          1       Voice      0             1  49fae048b547780   \n          2         sms      0             0  7a54a6eaee19e65   \n          3         sms     25             0  6008887b0207d82   \n          4       Voice     56             1  7370032e20f4e96   \n...                 ...    ...           ...              ...   \nDATE_TIME 4997    Voice      0             3  467333ade2b4b9c   \n          4998    Voice     62             1  e077a6b74c5053c   \n          4999    Voice     32             1  77f53c39d27c050   \n          5000    Voice     30             2  672ce74c418aa7a   \n          5001    Voice     60             2  6edeb4c55714650   \n\n                DW_B_NUMBER_INT     CELL_ID     SITE_ID  \nPRODUCT   0     DW_B_NUMBER_INT     CELL_ID     SITE_ID  \n          1     1a49f8b0ded9de6  /TJNe+Mmtu  /TJNe+Mmtu  \n          2     93343ba6e41af95  /+cKZKIp41  /+cKZKIp41  \n          3     7aacc9709ce0a20  /u0FSD+ahi  /u0FSD+ahi  \n          4     6af4a60e74c91d3  +cNeJzsTp3  +cNeJzsTp3  \n...                         ...         ...         ...  \nDATE_TIME 4997  0ab2acd804d01fe  2aa04dcab7  f7d63a29e5  \n          4998  4c8098eb6ea1a41  7f1f2f889f  b4ddb9e93c  \n          4999  9d064f013e2cab2  a4731e780e  d68260ef50  \n          5000  f9ff5af59cf0d68  98ed726da2  b4130b54ab  \n          5001  7e60838216482a7  1c11a2fcbb  6d70dae094  \n\n[15006 rows x 7 columns]",
      "text/html": "<div>\n<style scoped>\n    .dataframe tbody tr th:only-of-type {\n        vertical-align: middle;\n    }\n\n    .dataframe tbody tr th {\n        vertical-align: top;\n    }\n\n    .dataframe thead th {\n        text-align: right;\n    }\n</style>\n<table border=\"1\" class=\"dataframe\">\n  <thead>\n    <tr style=\"text-align: right;\">\n      <th></th>\n      <th></th>\n      <th>PRODUCT</th>\n      <th>VALUE</th>\n      <th>DATE_TIME</th>\n      <th>DW_A_NUMBER_INT</th>\n      <th>DW_B_NUMBER_INT</th>\n      <th>CELL_ID</th>\n      <th>SITE_ID</th>\n    </tr>\n  </thead>\n  <tbody>\n    <tr>\n      <th rowspan=\"5\" valign=\"top\">PRODUCT</th>\n      <th>0</th>\n      <td>PRODUTC</td>\n      <td>VALUE</td>\n      <td>CELL_ON_SITE</td>\n      <td>DW_A_NUMBER_INT</td>\n      <td>DW_B_NUMBER_INT</td>\n      <td>CELL_ID</td>\n      <td>SITE_ID</td>\n    </tr>\n    <tr>\n      <th>1</th>\n      <td>Voice</td>\n      <td>0</td>\n      <td>1</td>\n      <td>49fae048b547780</td>\n      <td>1a49f8b0ded9de6</td>\n      <td>/TJNe+Mmtu</td>\n      <td>/TJNe+Mmtu</td>\n    </tr>\n    <tr>\n      <th>2</th>\n      <td>sms</td>\n      <td>0</td>\n      <td>0</td>\n      <td>7a54a6eaee19e65</td>\n      <td>93343ba6e41af95</td>\n      <td>/+cKZKIp41</td>\n      <td>/+cKZKIp41</td>\n    </tr>\n    <tr>\n      <th>3</th>\n      <td>sms</td>\n      <td>25</td>\n      <td>0</td>\n      <td>6008887b0207d82</td>\n      <td>7aacc9709ce0a20</td>\n      <td>/u0FSD+ahi</td>\n      <td>/u0FSD+ahi</td>\n    </tr>\n    <tr>\n      <th>4</th>\n      <td>Voice</td>\n      <td>56</td>\n      <td>1</td>\n      <td>7370032e20f4e96</td>\n      <td>6af4a60e74c91d3</td>\n      <td>+cNeJzsTp3</td>\n      <td>+cNeJzsTp3</td>\n    </tr>\n    <tr>\n      <th>...</th>\n      <th>...</th>\n      <td>...</td>\n      <td>...</td>\n      <td>...</td>\n      <td>...</td>\n      <td>...</td>\n      <td>...</td>\n      <td>...</td>\n    </tr>\n    <tr>\n      <th rowspan=\"5\" valign=\"top\">DATE_TIME</th>\n      <th>4997</th>\n      <td>Voice</td>\n      <td>0</td>\n      <td>3</td>\n      <td>467333ade2b4b9c</td>\n      <td>0ab2acd804d01fe</td>\n      <td>2aa04dcab7</td>\n      <td>f7d63a29e5</td>\n    </tr>\n    <tr>\n      <th>4998</th>\n      <td>Voice</td>\n      <td>62</td>\n      <td>1</td>\n      <td>e077a6b74c5053c</td>\n      <td>4c8098eb6ea1a41</td>\n      <td>7f1f2f889f</td>\n      <td>b4ddb9e93c</td>\n    </tr>\n    <tr>\n      <th>4999</th>\n      <td>Voice</td>\n      <td>32</td>\n      <td>1</td>\n      <td>77f53c39d27c050</td>\n      <td>9d064f013e2cab2</td>\n      <td>a4731e780e</td>\n      <td>d68260ef50</td>\n    </tr>\n    <tr>\n      <th>5000</th>\n      <td>Voice</td>\n      <td>30</td>\n      <td>2</td>\n      <td>672ce74c418aa7a</td>\n      <td>f9ff5af59cf0d68</td>\n      <td>98ed726da2</td>\n      <td>b4130b54ab</td>\n    </tr>\n    <tr>\n      <th>5001</th>\n      <td>Voice</td>\n      <td>60</td>\n      <td>2</td>\n      <td>6edeb4c55714650</td>\n      <td>7e60838216482a7</td>\n      <td>1c11a2fcbb</td>\n      <td>6d70dae094</td>\n    </tr>\n  </tbody>\n</table>\n<p>15006 rows × 7 columns</p>\n</div>"
     },
     "metadata": {},
     "execution_count": 78
    }
   ],
   "source": [
    "# Combining of the three telecast datasets to enable analyis accross the three\n",
    "df_all_datasets =pd.concat([df6, df7, df8], keys =['PRODUCT', 'VALUE', 'DATE_TIME', 'DW_A_NUMBER_INT', 'DW_B_NUMBER_INT', 'CELL_ID', 'SITE_ID'])\n",
    "df_all_datasets"
   ]
  },
  {
   "cell_type": "code",
   "execution_count": 35,
   "metadata": {},
   "outputs": [
    {
     "output_type": "execute_result",
     "data": {
      "text/plain": "COCODY          354\nYOPOUGON        295\nABOBO           255\nMARCORY         141\nTREICHVILLE     132\nADJAME          110\nYAMOUSSOUKRO    104\nPLATEAU         103\nKOUMASSI         91\nBOUAKE           65\nName: VILLES, dtype: int64"
     },
     "metadata": {},
     "execution_count": 35
    }
   ],
   "source": [
    "# Determing which cities were the most used for the three days\n",
    "\n",
    "df4['VILLES'].value_counts()[:10].sort_values(ascending=False)"
   ]
  },
  {
   "cell_type": "code",
   "execution_count": null,
   "metadata": {},
   "outputs": [],
   "source": []
  }
 ],
 "metadata": {
  "language_info": {
   "codemirror_mode": {
    "name": "ipython",
    "version": 3
   },
   "file_extension": ".py",
   "mimetype": "text/x-python",
   "name": "python",
   "nbconvert_exporter": "python",
   "pygments_lexer": "ipython3",
   "version": "3.7.6-final"
  },
  "orig_nbformat": 2,
  "kernelspec": {
   "name": "python37632bit85ce2f264b1f44418c6db12f5b2a2512",
   "display_name": "Python 3.7.6 32-bit"
  }
 },
 "nbformat": 4,
 "nbformat_minor": 2
}