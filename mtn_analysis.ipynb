{
 "cells": [
  {
   "cell_type": "code",
   "execution_count": 2,
   "metadata": {},
   "outputs": [],
   "source": [
    "import pandas as pd \n",
    "import numpy as np \n"
   ]
  },
  {
   "cell_type": "code",
   "execution_count": 11,
   "metadata": {},
   "outputs": [],
   "source": [
    "# Loading the analysis data from the csv and excel sheet provided\n",
    "\n",
    "df1 = pd.read_csv('Telcom_dataset.csv')\n",
    "df2 = pd.read_csv('Telcom_dataset2.csv')\n",
    "df3 = pd.read_csv('Telcom_dataset3.csv')\n",
    "df4 = pd.read_csv('cells_geo.csv', delimiter= ';')\n",
    "df5 = pd.read_excel('CDR_description.xlsx')\n",
    "df5 = pd.read_excel('cells_geo_description.xlsx')\n"
   ]
  },
  {
   "cell_type": "code",
   "execution_count": 15,
   "metadata": {},
   "outputs": [
    {
     "output_type": "execute_result",
     "data": {
      "text/plain": "     PRODUTC  VALUE               DATETIME  DW_A_NUMBER_INT  DW_B_NUMBER_INT  \\\n0      Voice      0  2012-05-06 23:04:37.0  49fae048b547780  1a49f8b0ded9de6   \n1        sms      0  2012-05-06 23:05:25.0  7a54a6eaee19e65  93343ba6e41af95   \n2        sms     25  2012-05-06 23:05:41.0  6008887b0207d82  7aacc9709ce0a20   \n3      Voice     56  2012-05-06 23:05:42.0  7370032e20f4e96  6af4a60e74c91d3   \n4      Voice     14  2012-05-06 23:06:29.0  966ba4656e38e62  02aa736ee555d5c   \n...      ...    ...                    ...              ...              ...   \n4996     sms    100  2012-05-07 00:01:54.0  92e367d671f45c5  38811081cf82c90   \n4997   Voice      1  2012-05-07 00:01:54.0  83b44b18238e602  6ec63d4aa5de5dd   \n4998   Voice      0  2012-05-07 00:01:54.0  49fae048b547780  1a49f8b0ded9de6   \n4999   Voice      0  2012-05-07 00:01:54.0  a1613f1a992716a  bd663f07b6c8bcd   \n5000   Voice      7  2012-05-07 00:01:54.0  1670a5f7c22f4ed  3600efd094f2225   \n\n         CELL_ID     SITE_ID  \n0     /TJNe+Mmtu  /TJNe+Mmtu  \n1     /+cKZKIp41  /+cKZKIp41  \n2     /u0FSD+ahi  /u0FSD+ahi  \n3     +cNeJzsTp3  +cNeJzsTp3  \n4     051KhYDCpv  051KhYDCpv  \n...          ...         ...  \n4996  0c2371d9bc  1e751d08a4  \n4997  5fb791cf56  65efe2bc62  \n4998  7773627c12  9ef9616350  \n4999  3f4af49d6c  969b8d0e39  \n5000  6f4d9b77a5  ebfc58af70  \n\n[5001 rows x 7 columns]",
      "text/html": "<div>\n<style scoped>\n    .dataframe tbody tr th:only-of-type {\n        vertical-align: middle;\n    }\n\n    .dataframe tbody tr th {\n        vertical-align: top;\n    }\n\n    .dataframe thead th {\n        text-align: right;\n    }\n</style>\n<table border=\"1\" class=\"dataframe\">\n  <thead>\n    <tr style=\"text-align: right;\">\n      <th></th>\n      <th>PRODUTC</th>\n      <th>VALUE</th>\n      <th>DATETIME</th>\n      <th>DW_A_NUMBER_INT</th>\n      <th>DW_B_NUMBER_INT</th>\n      <th>CELL_ID</th>\n      <th>SITE_ID</th>\n    </tr>\n  </thead>\n  <tbody>\n    <tr>\n      <th>0</th>\n      <td>Voice</td>\n      <td>0</td>\n      <td>2012-05-06 23:04:37.0</td>\n      <td>49fae048b547780</td>\n      <td>1a49f8b0ded9de6</td>\n      <td>/TJNe+Mmtu</td>\n      <td>/TJNe+Mmtu</td>\n    </tr>\n    <tr>\n      <th>1</th>\n      <td>sms</td>\n      <td>0</td>\n      <td>2012-05-06 23:05:25.0</td>\n      <td>7a54a6eaee19e65</td>\n      <td>93343ba6e41af95</td>\n      <td>/+cKZKIp41</td>\n      <td>/+cKZKIp41</td>\n    </tr>\n    <tr>\n      <th>2</th>\n      <td>sms</td>\n      <td>25</td>\n      <td>2012-05-06 23:05:41.0</td>\n      <td>6008887b0207d82</td>\n      <td>7aacc9709ce0a20</td>\n      <td>/u0FSD+ahi</td>\n      <td>/u0FSD+ahi</td>\n    </tr>\n    <tr>\n      <th>3</th>\n      <td>Voice</td>\n      <td>56</td>\n      <td>2012-05-06 23:05:42.0</td>\n      <td>7370032e20f4e96</td>\n      <td>6af4a60e74c91d3</td>\n      <td>+cNeJzsTp3</td>\n      <td>+cNeJzsTp3</td>\n    </tr>\n    <tr>\n      <th>4</th>\n      <td>Voice</td>\n      <td>14</td>\n      <td>2012-05-06 23:06:29.0</td>\n      <td>966ba4656e38e62</td>\n      <td>02aa736ee555d5c</td>\n      <td>051KhYDCpv</td>\n      <td>051KhYDCpv</td>\n    </tr>\n    <tr>\n      <th>...</th>\n      <td>...</td>\n      <td>...</td>\n      <td>...</td>\n      <td>...</td>\n      <td>...</td>\n      <td>...</td>\n      <td>...</td>\n    </tr>\n    <tr>\n      <th>4996</th>\n      <td>sms</td>\n      <td>100</td>\n      <td>2012-05-07 00:01:54.0</td>\n      <td>92e367d671f45c5</td>\n      <td>38811081cf82c90</td>\n      <td>0c2371d9bc</td>\n      <td>1e751d08a4</td>\n    </tr>\n    <tr>\n      <th>4997</th>\n      <td>Voice</td>\n      <td>1</td>\n      <td>2012-05-07 00:01:54.0</td>\n      <td>83b44b18238e602</td>\n      <td>6ec63d4aa5de5dd</td>\n      <td>5fb791cf56</td>\n      <td>65efe2bc62</td>\n    </tr>\n    <tr>\n      <th>4998</th>\n      <td>Voice</td>\n      <td>0</td>\n      <td>2012-05-07 00:01:54.0</td>\n      <td>49fae048b547780</td>\n      <td>1a49f8b0ded9de6</td>\n      <td>7773627c12</td>\n      <td>9ef9616350</td>\n    </tr>\n    <tr>\n      <th>4999</th>\n      <td>Voice</td>\n      <td>0</td>\n      <td>2012-05-07 00:01:54.0</td>\n      <td>a1613f1a992716a</td>\n      <td>bd663f07b6c8bcd</td>\n      <td>3f4af49d6c</td>\n      <td>969b8d0e39</td>\n    </tr>\n    <tr>\n      <th>5000</th>\n      <td>Voice</td>\n      <td>7</td>\n      <td>2012-05-07 00:01:54.0</td>\n      <td>1670a5f7c22f4ed</td>\n      <td>3600efd094f2225</td>\n      <td>6f4d9b77a5</td>\n      <td>ebfc58af70</td>\n    </tr>\n  </tbody>\n</table>\n<p>5001 rows × 7 columns</p>\n</div>"
     },
     "metadata": {},
     "execution_count": 15
    }
   ],
   "source": [
    "# Removing the uncessary columns from the three day's data\n",
    "\n",
    "df1.drop(['CELL_ON_SITE','COUNTRY_A','COUNTRY_B'], axis = 1)"
   ]
  },
  {
   "cell_type": "code",
   "execution_count": 17,
   "metadata": {},
   "outputs": [
    {
     "output_type": "execute_result",
     "data": {
      "text/plain": "     PRODUCT  VALUE              DATE_TIME      DW_A_NUMBER      DW_B_NUMBER  \\\n0        sms      0  2012-05-07 23:02:06.0  32255675c3b6fe3  1aa7ae01386e9fb   \n1      Voice      0  2012-05-07 23:03:44.0  ff16d6ac74c1c64  87d87309c15a8c9   \n2        sms      0  2012-05-07 23:04:06.0  98d9f2fb5ff624b  93343ba6e41af95   \n3      Voice     37  2012-05-07 23:04:48.0  3f9c8a33ec7be1f  7d05a38f89c49d8   \n4        sms     25  2012-05-07 23:04:58.0  7bcccc03adf3864  56a5d5430d2fa86   \n...      ...    ...                    ...              ...              ...   \n4996     sms      0  2012-05-08 00:01:53.0  22ffbbb8ac8cde1  8db839a0c08bd54   \n4997     sms     25  2012-05-08 00:01:53.0  bcf512a3542d42c  5a2848d6f983c31   \n4998     sms      0  2012-05-08 00:01:53.0  05e3c3d41628a9f  7185a95077eae9e   \n4999    data      0  2012-05-08 00:01:53.0  86a4dbf018f6f24  5a4dc9e82deb309   \n5000   Voice      0  2012-05-08 00:01:53.0  a03c9837c62a5b9  de590e98879fa37   \n\n         CELL_ID     SITE_ID  \n0     +854AcBQT2  +854AcBQT2  \n1     +854AcBQT2  +854AcBQT2  \n2     +laSrk7g6q  +laSrk7g6q  \n3     /xvRrCVKoQ  /xvRrCVKoQ  \n4     +bO+qkSonO  +bO+qkSonO  \n...          ...         ...  \n4996  896459aace  b7d00e59e4  \n4997  7e90b35166  211015b14d  \n4998  fe70e431df  c7ea989264  \n4999  ffa6759bb2         NaN  \n5000  8630058aca  b47a998a3e  \n\n[5001 rows x 7 columns]",
      "text/html": "<div>\n<style scoped>\n    .dataframe tbody tr th:only-of-type {\n        vertical-align: middle;\n    }\n\n    .dataframe tbody tr th {\n        vertical-align: top;\n    }\n\n    .dataframe thead th {\n        text-align: right;\n    }\n</style>\n<table border=\"1\" class=\"dataframe\">\n  <thead>\n    <tr style=\"text-align: right;\">\n      <th></th>\n      <th>PRODUCT</th>\n      <th>VALUE</th>\n      <th>DATE_TIME</th>\n      <th>DW_A_NUMBER</th>\n      <th>DW_B_NUMBER</th>\n      <th>CELL_ID</th>\n      <th>SITE_ID</th>\n    </tr>\n  </thead>\n  <tbody>\n    <tr>\n      <th>0</th>\n      <td>sms</td>\n      <td>0</td>\n      <td>2012-05-07 23:02:06.0</td>\n      <td>32255675c3b6fe3</td>\n      <td>1aa7ae01386e9fb</td>\n      <td>+854AcBQT2</td>\n      <td>+854AcBQT2</td>\n    </tr>\n    <tr>\n      <th>1</th>\n      <td>Voice</td>\n      <td>0</td>\n      <td>2012-05-07 23:03:44.0</td>\n      <td>ff16d6ac74c1c64</td>\n      <td>87d87309c15a8c9</td>\n      <td>+854AcBQT2</td>\n      <td>+854AcBQT2</td>\n    </tr>\n    <tr>\n      <th>2</th>\n      <td>sms</td>\n      <td>0</td>\n      <td>2012-05-07 23:04:06.0</td>\n      <td>98d9f2fb5ff624b</td>\n      <td>93343ba6e41af95</td>\n      <td>+laSrk7g6q</td>\n      <td>+laSrk7g6q</td>\n    </tr>\n    <tr>\n      <th>3</th>\n      <td>Voice</td>\n      <td>37</td>\n      <td>2012-05-07 23:04:48.0</td>\n      <td>3f9c8a33ec7be1f</td>\n      <td>7d05a38f89c49d8</td>\n      <td>/xvRrCVKoQ</td>\n      <td>/xvRrCVKoQ</td>\n    </tr>\n    <tr>\n      <th>4</th>\n      <td>sms</td>\n      <td>25</td>\n      <td>2012-05-07 23:04:58.0</td>\n      <td>7bcccc03adf3864</td>\n      <td>56a5d5430d2fa86</td>\n      <td>+bO+qkSonO</td>\n      <td>+bO+qkSonO</td>\n    </tr>\n    <tr>\n      <th>...</th>\n      <td>...</td>\n      <td>...</td>\n      <td>...</td>\n      <td>...</td>\n      <td>...</td>\n      <td>...</td>\n      <td>...</td>\n    </tr>\n    <tr>\n      <th>4996</th>\n      <td>sms</td>\n      <td>0</td>\n      <td>2012-05-08 00:01:53.0</td>\n      <td>22ffbbb8ac8cde1</td>\n      <td>8db839a0c08bd54</td>\n      <td>896459aace</td>\n      <td>b7d00e59e4</td>\n    </tr>\n    <tr>\n      <th>4997</th>\n      <td>sms</td>\n      <td>25</td>\n      <td>2012-05-08 00:01:53.0</td>\n      <td>bcf512a3542d42c</td>\n      <td>5a2848d6f983c31</td>\n      <td>7e90b35166</td>\n      <td>211015b14d</td>\n    </tr>\n    <tr>\n      <th>4998</th>\n      <td>sms</td>\n      <td>0</td>\n      <td>2012-05-08 00:01:53.0</td>\n      <td>05e3c3d41628a9f</td>\n      <td>7185a95077eae9e</td>\n      <td>fe70e431df</td>\n      <td>c7ea989264</td>\n    </tr>\n    <tr>\n      <th>4999</th>\n      <td>data</td>\n      <td>0</td>\n      <td>2012-05-08 00:01:53.0</td>\n      <td>86a4dbf018f6f24</td>\n      <td>5a4dc9e82deb309</td>\n      <td>ffa6759bb2</td>\n      <td>NaN</td>\n    </tr>\n    <tr>\n      <th>5000</th>\n      <td>Voice</td>\n      <td>0</td>\n      <td>2012-05-08 00:01:53.0</td>\n      <td>a03c9837c62a5b9</td>\n      <td>de590e98879fa37</td>\n      <td>8630058aca</td>\n      <td>b47a998a3e</td>\n    </tr>\n  </tbody>\n</table>\n<p>5001 rows × 7 columns</p>\n</div>"
     },
     "metadata": {},
     "execution_count": 17
    }
   ],
   "source": [
    "# Removing the uncessary columns from the three day's data\n",
    "\n",
    "df2.drop(['CELL_ON_SITE','COUNTRY_A','COUNTRY_B'], axis = 1)"
   ]
  },
  {
   "cell_type": "code",
   "execution_count": 18,
   "metadata": {},
   "outputs": [
    {
     "output_type": "execute_result",
     "data": {
      "text/plain": "     PRODUCT  VALUE              DATE_TIME  DW_A_NUMBER_INT  DW_B_NUMBER_INT  \\\n0      Voice     61  2012-05-08 23:01:28.0  966f68353622feb  ffd53a3bb2db6f1   \n1        sms      0  2012-05-08 23:01:31.0  a0a597384c612d7  cf3b218f1dde792   \n2      Voice     10  2012-05-08 23:02:59.0  5441a9a58c97132  52f8b299515b9b7   \n3        sms      0  2012-05-08 23:03:04.0  8ab8b9ed6989f61  e09e736e46c5c3d   \n4      Voice     22  2012-05-08 23:03:16.0  52662a62b199334  2186273faab4602   \n...      ...    ...                    ...              ...              ...   \n4996   Voice      0  2012-05-09 00:01:43.0  467333ade2b4b9c  0ab2acd804d01fe   \n4997   Voice     62  2012-05-09 00:01:43.0  e077a6b74c5053c  4c8098eb6ea1a41   \n4998   Voice     32  2012-05-09 00:01:43.0  77f53c39d27c050  9d064f013e2cab2   \n4999   Voice     30  2012-05-09 00:01:43.0  672ce74c418aa7a  f9ff5af59cf0d68   \n5000   Voice     60  2012-05-09 00:01:43.0  6edeb4c55714650  7e60838216482a7   \n\n          CELLID     SIET_ID  \n0     +38u2u/rfx  +38u2u/rfx  \n1     +Fs4mTvdKx  +Fs4mTvdKx  \n2     +ZaaZozy/+  +ZaaZozy/+  \n3     +cNeJzsTp3  +cNeJzsTp3  \n4     /eeMklgyJA  /eeMklgyJA  \n...          ...         ...  \n4996  2aa04dcab7  f7d63a29e5  \n4997  7f1f2f889f  b4ddb9e93c  \n4998  a4731e780e  d68260ef50  \n4999  98ed726da2  b4130b54ab  \n5000  1c11a2fcbb  6d70dae094  \n\n[5001 rows x 7 columns]",
      "text/html": "<div>\n<style scoped>\n    .dataframe tbody tr th:only-of-type {\n        vertical-align: middle;\n    }\n\n    .dataframe tbody tr th {\n        vertical-align: top;\n    }\n\n    .dataframe thead th {\n        text-align: right;\n    }\n</style>\n<table border=\"1\" class=\"dataframe\">\n  <thead>\n    <tr style=\"text-align: right;\">\n      <th></th>\n      <th>PRODUCT</th>\n      <th>VALUE</th>\n      <th>DATE_TIME</th>\n      <th>DW_A_NUMBER_INT</th>\n      <th>DW_B_NUMBER_INT</th>\n      <th>CELLID</th>\n      <th>SIET_ID</th>\n    </tr>\n  </thead>\n  <tbody>\n    <tr>\n      <th>0</th>\n      <td>Voice</td>\n      <td>61</td>\n      <td>2012-05-08 23:01:28.0</td>\n      <td>966f68353622feb</td>\n      <td>ffd53a3bb2db6f1</td>\n      <td>+38u2u/rfx</td>\n      <td>+38u2u/rfx</td>\n    </tr>\n    <tr>\n      <th>1</th>\n      <td>sms</td>\n      <td>0</td>\n      <td>2012-05-08 23:01:31.0</td>\n      <td>a0a597384c612d7</td>\n      <td>cf3b218f1dde792</td>\n      <td>+Fs4mTvdKx</td>\n      <td>+Fs4mTvdKx</td>\n    </tr>\n    <tr>\n      <th>2</th>\n      <td>Voice</td>\n      <td>10</td>\n      <td>2012-05-08 23:02:59.0</td>\n      <td>5441a9a58c97132</td>\n      <td>52f8b299515b9b7</td>\n      <td>+ZaaZozy/+</td>\n      <td>+ZaaZozy/+</td>\n    </tr>\n    <tr>\n      <th>3</th>\n      <td>sms</td>\n      <td>0</td>\n      <td>2012-05-08 23:03:04.0</td>\n      <td>8ab8b9ed6989f61</td>\n      <td>e09e736e46c5c3d</td>\n      <td>+cNeJzsTp3</td>\n      <td>+cNeJzsTp3</td>\n    </tr>\n    <tr>\n      <th>4</th>\n      <td>Voice</td>\n      <td>22</td>\n      <td>2012-05-08 23:03:16.0</td>\n      <td>52662a62b199334</td>\n      <td>2186273faab4602</td>\n      <td>/eeMklgyJA</td>\n      <td>/eeMklgyJA</td>\n    </tr>\n    <tr>\n      <th>...</th>\n      <td>...</td>\n      <td>...</td>\n      <td>...</td>\n      <td>...</td>\n      <td>...</td>\n      <td>...</td>\n      <td>...</td>\n    </tr>\n    <tr>\n      <th>4996</th>\n      <td>Voice</td>\n      <td>0</td>\n      <td>2012-05-09 00:01:43.0</td>\n      <td>467333ade2b4b9c</td>\n      <td>0ab2acd804d01fe</td>\n      <td>2aa04dcab7</td>\n      <td>f7d63a29e5</td>\n    </tr>\n    <tr>\n      <th>4997</th>\n      <td>Voice</td>\n      <td>62</td>\n      <td>2012-05-09 00:01:43.0</td>\n      <td>e077a6b74c5053c</td>\n      <td>4c8098eb6ea1a41</td>\n      <td>7f1f2f889f</td>\n      <td>b4ddb9e93c</td>\n    </tr>\n    <tr>\n      <th>4998</th>\n      <td>Voice</td>\n      <td>32</td>\n      <td>2012-05-09 00:01:43.0</td>\n      <td>77f53c39d27c050</td>\n      <td>9d064f013e2cab2</td>\n      <td>a4731e780e</td>\n      <td>d68260ef50</td>\n    </tr>\n    <tr>\n      <th>4999</th>\n      <td>Voice</td>\n      <td>30</td>\n      <td>2012-05-09 00:01:43.0</td>\n      <td>672ce74c418aa7a</td>\n      <td>f9ff5af59cf0d68</td>\n      <td>98ed726da2</td>\n      <td>b4130b54ab</td>\n    </tr>\n    <tr>\n      <th>5000</th>\n      <td>Voice</td>\n      <td>60</td>\n      <td>2012-05-09 00:01:43.0</td>\n      <td>6edeb4c55714650</td>\n      <td>7e60838216482a7</td>\n      <td>1c11a2fcbb</td>\n      <td>6d70dae094</td>\n    </tr>\n  </tbody>\n</table>\n<p>5001 rows × 7 columns</p>\n</div>"
     },
     "metadata": {},
     "execution_count": 18
    }
   ],
   "source": [
    "# Removing the uncessary columns from the three day's data\n",
    "\n",
    "df3.drop(['CELL_ON_SITE','COUNTRY_A','COUNTRY_B'], axis = 1)"
   ]
  },
  {
   "cell_type": "code",
   "execution_count": 35,
   "metadata": {},
   "outputs": [
    {
     "output_type": "execute_result",
     "data": {
      "text/plain": "COCODY          354\nYOPOUGON        295\nABOBO           255\nMARCORY         141\nTREICHVILLE     132\nADJAME          110\nYAMOUSSOUKRO    104\nPLATEAU         103\nKOUMASSI         91\nBOUAKE           65\nName: VILLES, dtype: int64"
     },
     "metadata": {},
     "execution_count": 35
    }
   ],
   "source": [
    "# Determing whci cities were the most used for the three days\n",
    "\n",
    "df4['VILLES'].value_counts()[:10].sort_values(ascending=False)"
   ]
  },
  {
   "cell_type": "code",
   "execution_count": null,
   "metadata": {},
   "outputs": [],
   "source": []
  }
 ],
 "metadata": {
  "language_info": {
   "codemirror_mode": {
    "name": "ipython",
    "version": 3
   },
   "file_extension": ".py",
   "mimetype": "text/x-python",
   "name": "python",
   "nbconvert_exporter": "python",
   "pygments_lexer": "ipython3",
   "version": "3.7.6-final"
  },
  "orig_nbformat": 2,
  "kernelspec": {
   "name": "python37632bit85ce2f264b1f44418c6db12f5b2a2512",
   "display_name": "Python 3.7.6 32-bit"
  }
 },
 "nbformat": 4,
 "nbformat_minor": 2
}